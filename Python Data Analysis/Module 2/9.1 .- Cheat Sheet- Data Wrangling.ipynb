{
  "metadata": {
    "kernelspec": {
      "name": "python",
      "display_name": "Python (Pyodide)",
      "language": "python"
    },
    "language_info": {
      "codemirror_mode": {
        "name": "python",
        "version": 3
      },
      "file_extension": ".py",
      "mimetype": "text/x-python",
      "name": "python",
      "nbconvert_exporter": "python",
      "pygments_lexer": "ipython3",
      "version": "3.8"
    }
  },
  "nbformat_minor": 4,
  "nbformat": 4,
  "cells": [
    {
      "cell_type": "code",
      "source": "#Replace missing data with frequency\nMostFrequentEntry = df['attribute_name'].value_counts().idxmax() \ndf['attribute_name'].replace(np.nan,MostFrequentEntry,inplace=True)",
      "metadata": {
        "trusted": true
      },
      "outputs": [],
      "execution_count": null
    },
    {
      "cell_type": "code",
      "source": "#Replace missing data with mean\nAverageValue=df['attribute_name'].astype(<data_type>).mean(axis=0)\ndf['attribute_name'].replace(np.nan, AverageValue, inplace=True)",
      "metadata": {
        "trusted": true
      },
      "outputs": [],
      "execution_count": null
    },
    {
      "cell_type": "code",
      "source": "#Fix the data types\ndf[['attribute1_name', 'attribute2_name', ...]] = \ndf[['attribute1_name', 'attribute2_name', ...]].astype('data_type')\n#data_type is int, float, char, etc. ",
      "metadata": {
        "trusted": true
      },
      "outputs": [],
      "execution_count": null
    },
    {
      "cell_type": "code",
      "source": "#Data Normalization\ndf['attribute_name'] = df['attribute_name']/df['attribute_name'].max()",
      "metadata": {
        "trusted": true
      },
      "outputs": [],
      "execution_count": null
    },
    {
      "cell_type": "code",
      "source": "#Binning\nbins = np.linspace(min(df['attribute_name']), \nmax(df['attribute_name'],n)\n# n is the number of bins needed \nGroupNames = ['Group1','Group2','Group3,...]\ndf['binned_attribute_name'] = \npd.cut(df['attribute_name'], bins, labels=GroupNames, include_lowest=True)",
      "metadata": {
        "trusted": true
      },
      "outputs": [],
      "execution_count": null
    },
    {
      "cell_type": "code",
      "source": "#Change column name\ndf.rename(columns={'old_name':\\'new_name'}, inplace=True)",
      "metadata": {
        "trusted": true
      },
      "outputs": [],
      "execution_count": null
    },
    {
      "cell_type": "code",
      "source": "#",
      "metadata": {
        "trusted": true
      },
      "outputs": [],
      "execution_count": null
    }
  ]
}